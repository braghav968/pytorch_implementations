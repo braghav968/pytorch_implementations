{
 "cells": [
  {
   "cell_type": "code",
   "execution_count": 1,
   "metadata": {},
   "outputs": [
    {
     "name": "stdout",
     "output_type": "stream",
     "text": [
      "1\n"
     ]
    }
   ],
   "source": [
    "import torch\n",
    "import torch.nn as nn\n",
    "import torchvision.datasets as dsets\n",
    "import torchvision.transforms as transforms\n",
    "from torch.autograd import Variable\n",
    "print('1')"
   ]
  },
  {
   "cell_type": "markdown",
   "metadata": {},
   "source": [
    "### HIDDEN LAYER FEED FORWARD NETWORK(SIGMOID ACTIVATION)"
   ]
  },
  {
   "cell_type": "code",
   "execution_count": 2,
   "metadata": {},
   "outputs": [],
   "source": [
    "train_data = dsets.MNIST(root='./data',\n",
    "                        download=True,\n",
    "                        transform =transforms.ToTensor(),\n",
    "                        train=True)\n",
    "test_data = dsets.MNIST(root='./data',\n",
    "                       train=False,\n",
    "                       transform=transforms.ToTensor())"
   ]
  },
  {
   "cell_type": "code",
   "execution_count": 3,
   "metadata": {},
   "outputs": [
    {
     "data": {
      "text/plain": [
       "60000"
      ]
     },
     "execution_count": 3,
     "metadata": {},
     "output_type": "execute_result"
    }
   ],
   "source": [
    "len(train_data)"
   ]
  },
  {
   "cell_type": "code",
   "execution_count": 4,
   "metadata": {},
   "outputs": [
    {
     "data": {
      "text/plain": [
       "5.0"
      ]
     },
     "execution_count": 4,
     "metadata": {},
     "output_type": "execute_result"
    }
   ],
   "source": [
    "batch_size = 100\n",
    "num_iters = 3000\n",
    "num_epocs = num_iters/(len(train_data)/batch_size)\n",
    "num_epocs"
   ]
  },
  {
   "cell_type": "code",
   "execution_count": 5,
   "metadata": {},
   "outputs": [],
   "source": [
    "train_loader = torch.utils.data.DataLoader(dataset=train_data,\n",
    "                                    shuffle=True,\n",
    "                                    batch_size=batch_size,\n",
    "                                    )\n",
    "test_loader = torch.utils.data.DataLoader(dataset=train_data,\n",
    "                                         shuffle=False,\n",
    "                                         batch_size=batch_size)"
   ]
  },
  {
   "cell_type": "code",
   "execution_count": 6,
   "metadata": {},
   "outputs": [],
   "source": [
    "class NeuralNetwork(nn.Module):\n",
    "    def __init__(self, input_size, hidden_size, num_classes):\n",
    "        super (NeuralNetwork, self).__init__()\n",
    "        self.fc1 = nn.Linear(input_dim, hidden_dim)\n",
    "        self.sigmoid = nn.Sigmoid()\n",
    "        self.fc2 = nn.Linear(hidden_dim, output_dim)\n",
    "        \n",
    "    def forward(self,x):\n",
    "        out = self.fc1(x)\n",
    "        out = self.sigmoid(out)\n",
    "        out = self.fc2(out)\n",
    "        return out"
   ]
  },
  {
   "cell_type": "code",
   "execution_count": 7,
   "metadata": {},
   "outputs": [],
   "source": [
    "input_dim = 28*28\n",
    "hidden_dim = 100\n",
    "output_dim = 10\n",
    "\n",
    "model = NeuralNetwork(input_dim, hidden_dim, output_dim)"
   ]
  },
  {
   "cell_type": "code",
   "execution_count": 8,
   "metadata": {},
   "outputs": [],
   "source": [
    "criterion = nn.CrossEntropyLoss()"
   ]
  },
  {
   "cell_type": "code",
   "execution_count": 9,
   "metadata": {},
   "outputs": [],
   "source": [
    "learning_rate = 0.1\n",
    "optimizer = torch.optim.SGD(model.parameters(), lr=learning_rate)"
   ]
  },
  {
   "cell_type": "code",
   "execution_count": 10,
   "metadata": {},
   "outputs": [
    {
     "name": "stdout",
     "output_type": "stream",
     "text": [
      "<generator object Module.parameters at 0x000002A1255EB2B0>\n"
     ]
    }
   ],
   "source": [
    "print(model.parameters())"
   ]
  },
  {
   "cell_type": "code",
   "execution_count": 11,
   "metadata": {},
   "outputs": [
    {
     "name": "stdout",
     "output_type": "stream",
     "text": [
      "4\n"
     ]
    }
   ],
   "source": [
    "print(len(list(model.parameters())))"
   ]
  },
  {
   "cell_type": "code",
   "execution_count": 12,
   "metadata": {},
   "outputs": [
    {
     "name": "stdout",
     "output_type": "stream",
     "text": [
      "torch.Size([100, 784])\n"
     ]
    }
   ],
   "source": [
    "print(list(model.parameters())[0].size())"
   ]
  },
  {
   "cell_type": "code",
   "execution_count": 13,
   "metadata": {},
   "outputs": [
    {
     "name": "stdout",
     "output_type": "stream",
     "text": [
      "torch.Size([100])\n"
     ]
    }
   ],
   "source": [
    "print(list(model.parameters())[1].size())"
   ]
  },
  {
   "cell_type": "code",
   "execution_count": 14,
   "metadata": {},
   "outputs": [
    {
     "name": "stdout",
     "output_type": "stream",
     "text": [
      "torch.Size([10, 100])\n"
     ]
    }
   ],
   "source": [
    "print(list(model.parameters())[2].size())"
   ]
  },
  {
   "cell_type": "code",
   "execution_count": 15,
   "metadata": {},
   "outputs": [
    {
     "name": "stdout",
     "output_type": "stream",
     "text": [
      "torch.Size([10])\n"
     ]
    }
   ],
   "source": [
    "print(list(model.parameters())[3].size())"
   ]
  },
  {
   "cell_type": "code",
   "execution_count": 16,
   "metadata": {
    "scrolled": true
   },
   "outputs": [
    {
     "name": "stdout",
     "output_type": "stream",
     "text": [
      "Iteration:500 Accuracy:85.%\n",
      "Iteration:1000 Accuracy:89.%\n",
      "Iteration:1500 Accuracy:90.%\n",
      "Iteration:2000 Accuracy:90.%\n",
      "Iteration:2500 Accuracy:91.%\n",
      "Iteration:3000 Accuracy:91.%\n"
     ]
    }
   ],
   "source": [
    "iter = 0\n",
    "num_epocs = int(num_epocs)\n",
    "for epoch in range(num_epocs):\n",
    "    for i,(images,labels) in enumerate(train_loader):\n",
    "        \n",
    "        images = Variable(images.view(-1, 28*28))\n",
    "        \n",
    "        labels = Variable(labels)\n",
    "\n",
    "        optimizer.zero_grad()\n",
    "\n",
    "        outputs = model(images)\n",
    "\n",
    "        loss = criterion(outputs, labels)\n",
    "\n",
    "        loss.backward()\n",
    "\n",
    "        optimizer.step()\n",
    "\n",
    "        iter += 1\n",
    "                \n",
    "        if iter % 500 == 0:\n",
    "            correct = 0\n",
    "            total = 0\n",
    "            for images,labels in test_loader:\n",
    "\n",
    "                images = Variable(images.view(-1, 28*28))\n",
    "                outputs= model(images)\n",
    "\n",
    "                _, predicted = torch.max(outputs.data, 1)\n",
    "\n",
    "                total += labels.size(0)\n",
    "                \n",
    "                correct += (predicted == labels).sum()\n",
    "\n",
    "                accuracy = 100* correct/total\n",
    "\n",
    "            print('Iteration:{} Accuracy:{}.%'.format(iter, 100* correct/total))\n",
    "    "
   ]
  },
  {
   "cell_type": "markdown",
   "metadata": {},
   "source": [
    "### HIDDEN LAYER FEED FORWARD NETWORK(Tanh ACTIVATION)"
   ]
  },
  {
   "cell_type": "code",
   "execution_count": 17,
   "metadata": {},
   "outputs": [
    {
     "name": "stdout",
     "output_type": "stream",
     "text": [
      "<generator object Module.parameters at 0x000002A1255EB3B8>\n",
      "4\n",
      "torch.Size([100, 784])\n",
      "torch.Size([100])\n",
      "torch.Size([10, 100])\n",
      "torch.Size([10])\n",
      "Iteration:500 Accuracy:90.%\n",
      "Iteration:1000 Accuracy:92.%\n",
      "Iteration:1500 Accuracy:93.%\n",
      "Iteration:2000 Accuracy:94.%\n",
      "Iteration:2500 Accuracy:94.%\n",
      "Iteration:3000 Accuracy:95.%\n"
     ]
    }
   ],
   "source": [
    "import torch\n",
    "import torch.nn as nn\n",
    "import torchvision.datasets as dsets\n",
    "import torchvision.transforms as transforms\n",
    "from torch.autograd import Variable\n",
    "\n",
    "# Loading the data\n",
    "\n",
    "train_data = dsets.MNIST(root='./data',\n",
    "                        download=True,\n",
    "                        transform =transforms.ToTensor(),\n",
    "                        train=True)\n",
    "test_data = dsets.MNIST(root='./data',\n",
    "                       train=False,\n",
    "                       transform=transforms.ToTensor())\n",
    "\n",
    "len(train_data)\n",
    "\n",
    "# Making Data set Iterable\n",
    "\n",
    "batch_size = 100\n",
    "num_iters = 3000\n",
    "num_epocs = num_iters/(len(train_data)/batch_size)\n",
    "num_epocs\n",
    "\n",
    "train_loader = torch.utils.data.DataLoader(dataset=train_data,\n",
    "                                    shuffle=True,\n",
    "                                    batch_size=batch_size,\n",
    "                                    )\n",
    "test_loader = torch.utils.data.DataLoader(dataset=train_data,\n",
    "                                         shuffle=False,\n",
    "                                         batch_size=batch_size)\n",
    "# Creating modal class\n",
    "\n",
    "class NeuralNetwork(nn.Module):\n",
    "    def __init__(self, input_size, hidden_size, num_classes):\n",
    "        super (NeuralNetwork, self).__init__()\n",
    "        self.fc1 = nn.Linear(input_dim, hidden_dim)\n",
    "        self.tanh = nn.Tanh()\n",
    "        self.fc2 = nn.Linear(hidden_dim, output_dim)\n",
    "        \n",
    "    def forward(self,x):\n",
    "        out = self.fc1(x)\n",
    "        out = self.tanh(out)\n",
    "        out = self.fc2(out)\n",
    "        return out\n",
    "\n",
    "# Instantiate modal class    \n",
    "\n",
    "input_dim = 28*28\n",
    "hidden_dim = 100\n",
    "output_dim = 10\n",
    "\n",
    "model = NeuralNetwork(input_dim, hidden_dim, output_dim)\n",
    "\n",
    "# Instantiate Loss Class\n",
    "\n",
    "criterion = nn.CrossEntropyLoss()\n",
    "\n",
    "# Instantiate optimizer Class\n",
    "learning_rate = 0.1\n",
    "optimizer = torch.optim.SGD(model.parameters(), lr=learning_rate)\n",
    "\n",
    "print(model.parameters())\n",
    "\n",
    "print(len(list(model.parameters())))\n",
    "\n",
    "print(list(model.parameters())[0].size())\n",
    "\n",
    "print(list(model.parameters())[1].size())\n",
    "\n",
    "print(list(model.parameters())[2].size())\n",
    "\n",
    "print(list(model.parameters())[3].size())\n",
    "\n",
    "# Training the model\n",
    "\n",
    "iter = 0\n",
    "num_epocs = int(num_epocs)\n",
    "for epoch in range(num_epocs):\n",
    "    for i,(images,labels) in enumerate(train_loader):\n",
    "        \n",
    "        images = Variable(images.view(-1, 28*28))\n",
    "        \n",
    "        labels = Variable(labels)\n",
    "\n",
    "        optimizer.zero_grad()\n",
    "\n",
    "        outputs = model(images)\n",
    "\n",
    "        loss = criterion(outputs, labels)\n",
    "\n",
    "        loss.backward()\n",
    "\n",
    "        optimizer.step()\n",
    "\n",
    "        iter += 1\n",
    "                \n",
    "        if iter % 500 == 0:\n",
    "            correct = 0\n",
    "            total = 0\n",
    "            for images,labels in test_loader:\n",
    "\n",
    "                images = Variable(images.view(-1, 28*28))\n",
    "                outputs= model(images)\n",
    "\n",
    "                _, predicted = torch.max(outputs.data, 1)\n",
    "\n",
    "                total += labels.size(0)\n",
    "                \n",
    "                correct += (predicted == labels).sum()\n",
    "\n",
    "                accuracy = 100* correct/total\n",
    "\n",
    "            print('Iteration:{} Accuracy:{}.%'.format(iter, 100* correct/total))\n",
    "    "
   ]
  },
  {
   "cell_type": "markdown",
   "metadata": {},
   "source": [
    "### HIDDEN LAYER FEED FORWARD NETWORK(ReLU ACTIVATION)"
   ]
  },
  {
   "cell_type": "code",
   "execution_count": 18,
   "metadata": {},
   "outputs": [
    {
     "name": "stdout",
     "output_type": "stream",
     "text": [
      "<generator object Module.parameters at 0x000002A1255EB3B8>\n",
      "4\n",
      "torch.Size([100, 784])\n",
      "torch.Size([100])\n",
      "torch.Size([10, 100])\n",
      "torch.Size([10])\n",
      "Iteration:500 Accuracy:90.%\n",
      "Iteration:1000 Accuracy:92.%\n",
      "Iteration:1500 Accuracy:94.%\n",
      "Iteration:2000 Accuracy:94.%\n",
      "Iteration:2500 Accuracy:95.%\n",
      "Iteration:3000 Accuracy:95.%\n"
     ]
    }
   ],
   "source": [
    "import torch\n",
    "import torch.nn as nn\n",
    "import torchvision.datasets as dsets\n",
    "import torchvision.transforms as transforms\n",
    "from torch.autograd import Variable\n",
    "\n",
    "# Loading the data\n",
    "\n",
    "train_data = dsets.MNIST(root='./data',\n",
    "                        download=True,\n",
    "                        transform =transforms.ToTensor(),\n",
    "                        train=True)\n",
    "test_data = dsets.MNIST(root='./data',\n",
    "                       train=False,\n",
    "                       transform=transforms.ToTensor())\n",
    "\n",
    "len(train_data)\n",
    "\n",
    "# Making Data set Iterable\n",
    "\n",
    "batch_size = 100\n",
    "num_iters = 3000\n",
    "num_epocs = num_iters/(len(train_data)/batch_size)\n",
    "num_epocs\n",
    "\n",
    "train_loader = torch.utils.data.DataLoader(dataset=train_data,\n",
    "                                    shuffle=True,\n",
    "                                    batch_size=batch_size,\n",
    "                                    )\n",
    "test_loader = torch.utils.data.DataLoader(dataset=train_data,\n",
    "                                         shuffle=False,\n",
    "                                         batch_size=batch_size)\n",
    "# Creating modal class\n",
    "\n",
    "class NeuralNetwork(nn.Module):\n",
    "    def __init__(self, input_size, hidden_size, num_classes):\n",
    "        super (NeuralNetwork, self).__init__()\n",
    "        self.fc1 = nn.Linear(input_dim, hidden_dim)\n",
    "        self.relu = nn.ReLU()\n",
    "        self.fc2 = nn.Linear(hidden_dim, output_dim)\n",
    "        \n",
    "    def forward(self,x):\n",
    "        out = self.fc1(x)\n",
    "        out = self.relu(out)\n",
    "        out = self.fc2(out)\n",
    "        return out\n",
    "\n",
    "# Instantiate modal class    \n",
    "\n",
    "input_dim = 28*28\n",
    "hidden_dim = 100\n",
    "output_dim = 10\n",
    "\n",
    "model = NeuralNetwork(input_dim, hidden_dim, output_dim)\n",
    "\n",
    "# Instantiate Loss Class\n",
    "\n",
    "criterion = nn.CrossEntropyLoss()\n",
    "\n",
    "# Instantiate optimizer Class\n",
    "learning_rate = 0.1\n",
    "optimizer = torch.optim.SGD(model.parameters(), lr=learning_rate)\n",
    "\n",
    "print(model.parameters())\n",
    "\n",
    "print(len(list(model.parameters())))\n",
    "\n",
    "print(list(model.parameters())[0].size())\n",
    "\n",
    "print(list(model.parameters())[1].size())\n",
    "\n",
    "print(list(model.parameters())[2].size())\n",
    "\n",
    "print(list(model.parameters())[3].size())\n",
    "\n",
    "# Training the model\n",
    "\n",
    "iter = 0\n",
    "num_epocs = int(num_epocs)\n",
    "for epoch in range(num_epocs):\n",
    "    for i,(images,labels) in enumerate(train_loader):\n",
    "        \n",
    "        images = Variable(images.view(-1, 28*28))\n",
    "        \n",
    "        labels = Variable(labels)\n",
    "\n",
    "        optimizer.zero_grad()\n",
    "\n",
    "        outputs = model(images)\n",
    "\n",
    "        loss = criterion(outputs, labels)\n",
    "\n",
    "        loss.backward()\n",
    "\n",
    "        optimizer.step()\n",
    "\n",
    "        iter += 1\n",
    "                \n",
    "        if iter % 500 == 0:\n",
    "            correct = 0\n",
    "            total = 0\n",
    "            for images,labels in test_loader:\n",
    "\n",
    "                images = Variable(images.view(-1, 28*28))\n",
    "                outputs= model(images)\n",
    "\n",
    "                _, predicted = torch.max(outputs.data, 1)\n",
    "\n",
    "                total += labels.size(0)\n",
    "                \n",
    "                correct += (predicted == labels).sum()\n",
    "\n",
    "                accuracy = 100* correct/total\n",
    "\n",
    "            print('Iteration:{} Accuracy:{}.%'.format(iter, 100* correct/total))\n",
    "    "
   ]
  },
  {
   "cell_type": "markdown",
   "metadata": {},
   "source": [
    "### 2 HIDDEN LAYER FEED FORWARD NETWORK(ReLU NETWORK)"
   ]
  },
  {
   "cell_type": "code",
   "execution_count": 19,
   "metadata": {},
   "outputs": [
    {
     "name": "stdout",
     "output_type": "stream",
     "text": [
      "<generator object Module.parameters at 0x000002A1255EB620>\n",
      "6\n",
      "torch.Size([100, 784])\n",
      "torch.Size([100])\n",
      "torch.Size([100, 100])\n",
      "torch.Size([100])\n",
      "Iteration:500 Accuracy:91.%\n",
      "Iteration:1000 Accuracy:93.%\n",
      "Iteration:1500 Accuracy:94.%\n",
      "Iteration:2000 Accuracy:95.%\n",
      "Iteration:2500 Accuracy:96.%\n",
      "Iteration:3000 Accuracy:96.%\n"
     ]
    }
   ],
   "source": [
    "import torch\n",
    "import torch.nn as nn\n",
    "import torchvision.datasets as dsets\n",
    "import torchvision.transforms as transforms\n",
    "from torch.autograd import Variable\n",
    "\n",
    "# Loading the data\n",
    "\n",
    "train_data = dsets.MNIST(root='./data',\n",
    "                        download=True,\n",
    "                        transform =transforms.ToTensor(),\n",
    "                        train=True)\n",
    "test_data = dsets.MNIST(root='./data',\n",
    "                       train=False,\n",
    "                       transform=transforms.ToTensor())\n",
    "\n",
    "len(train_data)\n",
    "\n",
    "# Making Data set Iterable\n",
    "\n",
    "batch_size = 100\n",
    "num_iters = 3000\n",
    "num_epocs = num_iters/(len(train_data)/batch_size)\n",
    "num_epocs\n",
    "\n",
    "train_loader = torch.utils.data.DataLoader(dataset=train_data,\n",
    "                                    shuffle=True,\n",
    "                                    batch_size=batch_size,\n",
    "                                    )\n",
    "test_loader = torch.utils.data.DataLoader(dataset=train_data,\n",
    "                                         shuffle=False,\n",
    "                                         batch_size=batch_size)\n",
    "# Creating modal class\n",
    "\n",
    "class NeuralNetwork(nn.Module):\n",
    "    def __init__(self, input_size, hidden_size, num_classes):\n",
    "        super (NeuralNetwork, self).__init__()\n",
    "        self.fc1 = nn.Linear(input_dim, hidden_dim)\n",
    "        \n",
    "        self.relu1 = nn.ReLU()\n",
    "        \n",
    "        self.fc2 = nn.Linear(hidden_dim, hidden_dim)\n",
    "        \n",
    "        self.relu2 = nn.ReLU()\n",
    "        \n",
    "        self.fc3 = nn.Linear(hidden_dim, output_dim)\n",
    "        \n",
    "    def forward(self,x):\n",
    "        out = self.fc1(x)\n",
    "        \n",
    "        out = self.relu1(out)\n",
    "        \n",
    "        out = self.fc2(out)\n",
    "        \n",
    "        out = self.relu2(out)\n",
    "        \n",
    "        out = self.fc3(out)\n",
    "        \n",
    "        return out\n",
    "\n",
    "# Instantiate modal class    \n",
    "\n",
    "input_dim = 28*28\n",
    "hidden_dim = 100\n",
    "output_dim = 10\n",
    "\n",
    "model = NeuralNetwork(input_dim, hidden_dim, output_dim)\n",
    "\n",
    "# Instantiate Loss Class\n",
    "\n",
    "criterion = nn.CrossEntropyLoss()\n",
    "\n",
    "# Instantiate optimizer Class\n",
    "learning_rate = 0.1\n",
    "optimizer = torch.optim.SGD(model.parameters(), lr=learning_rate)\n",
    "\n",
    "print(model.parameters())\n",
    "\n",
    "print(len(list(model.parameters())))\n",
    "\n",
    "print(list(model.parameters())[0].size())\n",
    "\n",
    "print(list(model.parameters())[1].size())\n",
    "\n",
    "print(list(model.parameters())[2].size())\n",
    "\n",
    "print(list(model.parameters())[3].size())\n",
    "\n",
    "# Training the model\n",
    "\n",
    "iter = 0\n",
    "num_epocs = int(num_epocs)\n",
    "for epoch in range(num_epocs):\n",
    "    for i,(images,labels) in enumerate(train_loader):\n",
    "        \n",
    "        images = Variable(images.view(-1, 28*28))\n",
    "        \n",
    "        labels = Variable(labels)\n",
    "\n",
    "        optimizer.zero_grad()\n",
    "\n",
    "        outputs = model(images)\n",
    "\n",
    "        loss = criterion(outputs, labels)\n",
    "\n",
    "        loss.backward()\n",
    "\n",
    "        optimizer.step()\n",
    "\n",
    "        iter += 1\n",
    "                \n",
    "        if iter % 500 == 0:\n",
    "            correct = 0\n",
    "            total = 0\n",
    "            for images,labels in test_loader:\n",
    "\n",
    "                images = Variable(images.view(-1, 28*28))\n",
    "                outputs= model(images)\n",
    "\n",
    "                _, predicted = torch.max(outputs.data, 1)\n",
    "\n",
    "                total += labels.size(0)\n",
    "                \n",
    "                correct += (predicted == labels).sum()\n",
    "\n",
    "                accuracy = 100* correct/total\n",
    "\n",
    "            print('Iteration:{} Accuracy:{}.%'.format(iter, 100* correct/total))\n",
    "    "
   ]
  },
  {
   "cell_type": "markdown",
   "metadata": {},
   "source": [
    "### 3 HIDDEN LAYER FEED FORWARD NETWORK(ReLU NETWORK)"
   ]
  },
  {
   "cell_type": "code",
   "execution_count": 24,
   "metadata": {},
   "outputs": [
    {
     "name": "stdout",
     "output_type": "stream",
     "text": [
      "<generator object Module.parameters at 0x000002A1256D77D8>\n",
      "8\n",
      "torch.Size([100, 784])\n",
      "torch.Size([100])\n",
      "torch.Size([100, 100])\n",
      "torch.Size([100])\n",
      "Iteration:500 Accuracy:90.%\n",
      "Iteration:1000 Accuracy:93.%\n",
      "Iteration:1500 Accuracy:95.%\n",
      "Iteration:2000 Accuracy:96.%\n",
      "Iteration:2500 Accuracy:97.%\n",
      "Iteration:3000 Accuracy:97.%\n"
     ]
    }
   ],
   "source": [
    "import torch\n",
    "import torch.nn as nn\n",
    "import torchvision.datasets as dsets\n",
    "import torchvision.transforms as transforms\n",
    "from torch.autograd import Variable\n",
    "\n",
    "# Loading the data\n",
    "\n",
    "train_data = dsets.MNIST(root='./data',\n",
    "                        download=True,\n",
    "                        transform =transforms.ToTensor(),\n",
    "                        train=True)\n",
    "test_data = dsets.MNIST(root='./data',\n",
    "                       train=False,\n",
    "                       transform=transforms.ToTensor())\n",
    "\n",
    "len(train_data)\n",
    "\n",
    "# Making Data set Iterable\n",
    "\n",
    "batch_size = 100\n",
    "num_iters = 3000\n",
    "num_epocs = num_iters/(len(train_data)/batch_size)\n",
    "num_epocs\n",
    "\n",
    "train_loader = torch.utils.data.DataLoader(dataset=train_data,\n",
    "                                    shuffle=True,\n",
    "                                    batch_size=batch_size,\n",
    "                                    )\n",
    "test_loader = torch.utils.data.DataLoader(dataset=train_data,\n",
    "                                         shuffle=False,\n",
    "                                         batch_size=batch_size)\n",
    "# Creating modal class\n",
    "\n",
    "class NeuralNetwork(nn.Module):\n",
    "    def __init__(self, input_size, hidden_size, num_classes):\n",
    "        super (NeuralNetwork, self).__init__()\n",
    "        \n",
    "        self.fc1 = nn.Linear(input_dim, hidden_dim)\n",
    "        \n",
    "        self.relu1 = nn.ReLU()\n",
    "        \n",
    "        self.fc2 = nn.Linear(hidden_dim, hidden_dim)\n",
    "        \n",
    "        self.relu2 = nn.ReLU()\n",
    "        \n",
    "        self.fc3 = nn.Linear(hidden_dim, hidden_dim)\n",
    "        \n",
    "        self.relu3 = nn.ReLU()\n",
    "        \n",
    "        self.fc4 = nn.Linear(hidden_dim, output_dim)\n",
    "        \n",
    "    def forward(self,x):\n",
    "        out = self.fc1(x)\n",
    "        \n",
    "        out = self.relu1(out)\n",
    "        \n",
    "        out = self.fc2(out)\n",
    "        \n",
    "        out = self.relu2(out)\n",
    "        \n",
    "        out = self.fc3(out)\n",
    "        \n",
    "        out = self.relu3(out)\n",
    "        \n",
    "        out = self.fc4(out)\n",
    "        \n",
    "        return out\n",
    "\n",
    "# Instantiate modal class    \n",
    "\n",
    "input_dim = 28*28\n",
    "hidden_dim = 100\n",
    "output_dim = 10\n",
    "\n",
    "model = NeuralNetwork(input_dim, hidden_dim, output_dim)\n",
    "\n",
    "# Instantiate Loss Class\n",
    "\n",
    "criterion = nn.CrossEntropyLoss()\n",
    "\n",
    "# Instantiate optimizer Class\n",
    "learning_rate = 0.1\n",
    "optimizer = torch.optim.SGD(model.parameters(), lr=learning_rate)\n",
    "\n",
    "print(model.parameters())\n",
    "\n",
    "print(len(list(model.parameters())))\n",
    "\n",
    "print(list(model.parameters())[0].size())\n",
    "\n",
    "print(list(model.parameters())[1].size())\n",
    "\n",
    "print(list(model.parameters())[2].size())\n",
    "\n",
    "print(list(model.parameters())[3].size())\n",
    "\n",
    "# Training the model\n",
    "\n",
    "iter = 0\n",
    "num_epocs = int(num_epocs)\n",
    "for epoch in range(num_epocs):\n",
    "    for i,(images,labels) in enumerate(train_loader):\n",
    "        \n",
    "        images = Variable(images.view(-1, 28*28))\n",
    "        \n",
    "        labels = Variable(labels)\n",
    "\n",
    "        optimizer.zero_grad()\n",
    "\n",
    "        outputs = model(images)\n",
    "\n",
    "        loss = criterion(outputs, labels)\n",
    "\n",
    "        loss.backward()\n",
    "\n",
    "        optimizer.step()\n",
    "\n",
    "        iter += 1\n",
    "                \n",
    "        if iter % 500 == 0:\n",
    "            correct = 0\n",
    "            total = 0\n",
    "            for images,labels in test_loader:\n",
    "\n",
    "                images = Variable(images.view(-1, 28*28))\n",
    "                outputs= model(images)\n",
    "\n",
    "                _, predicted = torch.max(outputs.data, 1)\n",
    "\n",
    "                total += labels.size(0)\n",
    "                \n",
    "                correct += (predicted == labels).sum()\n",
    "\n",
    "                accuracy = 100* correct/total\n",
    "\n",
    "            print('Iteration:{} Accuracy:{}.%'.format(iter, 100* correct/total))\n",
    "    "
   ]
  },
  {
   "cell_type": "code",
   "execution_count": null,
   "metadata": {},
   "outputs": [],
   "source": []
  }
 ],
 "metadata": {
  "kernelspec": {
   "display_name": "Python 3",
   "language": "python",
   "name": "python3"
  },
  "language_info": {
   "codemirror_mode": {
    "name": "ipython",
    "version": 3
   },
   "file_extension": ".py",
   "mimetype": "text/x-python",
   "name": "python",
   "nbconvert_exporter": "python",
   "pygments_lexer": "ipython3",
   "version": "3.6.6"
  }
 },
 "nbformat": 4,
 "nbformat_minor": 2
}
